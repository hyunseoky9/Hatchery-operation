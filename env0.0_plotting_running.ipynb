{
 "cells": [
  {
   "cell_type": "code",
   "execution_count": null,
   "id": "66b82162",
   "metadata": {},
   "outputs": [],
   "source": [
    "# run the simulation\n",
    "from env0_0 import Env0_0\n",
    "from scipy.stats import poisson\n",
    "import random\n",
    "import pandas as pd\n",
    "import numpy as np\n",
    "# Set the seed\n",
    "#random.seed(23)\n",
    "\n",
    "env = Env0_0([-1,-1],1,0)\n",
    "repnum = 100\n",
    "for rep in range(repnum):\n",
    "    done = False\n",
    "    env.reset([-1,-1])\n",
    "    states = [env.state]\n",
    "    done = 0\n",
    "    rewards = []\n",
    "    extinct_period = -1\n",
    "    period = 0\n",
    "    rrates = [-0.25]\n",
    "    extinction_periods = [999]\n",
    "    while done == False in range(1000):\n",
    "        #print(i+1)\n",
    "        foo = env.step(9)\n",
    "        if foo[1] == True:\n",
    "            extinct_period = period\n",
    "            extinction_periods.append(extinct_period)\n",
    "            break\n",
    "        rewards.append(foo[0])\n",
    "        rrates.append(foo[2])\n",
    "        #print(env.state)\n",
    "        states.append(env.state)\n",
    "        period += 1\n",
    "    print(f'period: {period}')\n",
    "\n",
    "\n",
    "#print(period)\n",
    "#print(rrates)\n",
    "# Convert the list of states to a DataFrame and save to CSV\n",
    "df_states = pd.DataFrame(states)\n",
    "# include a column in df_states giving index of the NH state\n",
    "df_states['r'] = rrates\n",
    "# change column names\n",
    "df_states.columns = ['NW', 'q', 'r']\n",
    "df_states.to_csv('env_states.csv', index=False)\n",
    "\n",
    "\n",
    "\n",
    "## plot NW over time \n",
    "import matplotlib.pyplot as plt\n",
    "\n",
    "plt.figure(figsize=(12, 6))\n",
    "# Plot NW_index over time\n",
    "plt.subplot(3, 1, 1)\n",
    "plt.plot(df_states['NW'], label='NW_index', color='blue')\n",
    "plt.xlabel('Time')\n",
    "plt.ylabel('NW_index')\n",
    "plt.title(f'NW_index over Time (extinct period: {extinct_period})')\n",
    "plt.legend()\n",
    "\n",
    "## Plot q over time\n",
    "plt.subplot(3, 1, 2)\n",
    "plt.plot(df_states['q'], label='q', color='green')\n",
    "plt.xlabel('Time')\n",
    "plt.ylabel('q')\n",
    "plt.title('q over Time',)\n",
    "plt.legend()\n",
    "\n",
    "\n",
    "plt.subplot(3, 1, 3)\n",
    "plt.plot(df_states['r'], label='r', color='red')\n",
    "plt.xlabel('Time')\n",
    "plt.ylabel('r')\n",
    "plt.title('r over Time',)\n",
    "plt.legend()\n",
    "\n",
    "plt.tight_layout()\n",
    "plt.show()\n",
    "\n"
   ]
  },
  {
   "cell_type": "markdown",
   "id": "e438f486",
   "metadata": {},
   "source": [
    "# running a simulation"
   ]
  },
  {
   "cell_type": "markdown",
   "id": "4f3b1339",
   "metadata": {},
   "source": [
    "# Value Iteration"
   ]
  },
  {
   "cell_type": "code",
   "execution_count": null,
   "id": "265b0b0f",
   "metadata": {},
   "outputs": [],
   "source": [
    "# run value iteration algorithm to come up with optimal policy\n",
    "import pickle\n",
    "from value_iteration import value_iteration\n",
    "from env0_0 import Env0_0\n",
    "from scipy.stats import poisson, norm,binom\n",
    "import random\n",
    "import pandas as pd\n",
    "import numpy as np\n",
    "# make sure you inherity the value iteration class with env0_0!\n",
    "v = value_iteration([-1,-1],1,0)\n",
    "trp = v.compute_transition_probability()\n",
    "#Q, V, policy = v.value_iter()\n",
    "#trp\n",
    "#print(V)\n",
    "\n"
   ]
  },
  {
   "cell_type": "markdown",
   "id": "a11df23d",
   "metadata": {},
   "source": [
    "# RUN Q-LEARNING ALGORITHM"
   ]
  },
  {
   "cell_type": "code",
   "execution_count": 3,
   "id": "666d3b59",
   "metadata": {},
   "outputs": [
    {
     "data": {
      "text/plain": [
       "'episode: 0'"
      ]
     },
     "metadata": {},
     "output_type": "display_data"
    },
    {
     "data": {
      "text/plain": [
       "'episode: 1000'"
      ]
     },
     "metadata": {},
     "output_type": "display_data"
    },
    {
     "data": {
      "text/plain": [
       "'episode: 2000'"
      ]
     },
     "metadata": {},
     "output_type": "display_data"
    },
    {
     "data": {
      "text/plain": [
       "'episode: 3000'"
      ]
     },
     "metadata": {},
     "output_type": "display_data"
    },
    {
     "data": {
      "text/plain": [
       "'episode: 4000'"
      ]
     },
     "metadata": {},
     "output_type": "display_data"
    },
    {
     "data": {
      "text/plain": [
       "'episode: 5000'"
      ]
     },
     "metadata": {},
     "output_type": "display_data"
    },
    {
     "data": {
      "text/plain": [
       "'episode: 6000'"
      ]
     },
     "metadata": {},
     "output_type": "display_data"
    },
    {
     "data": {
      "text/plain": [
       "'episode: 7000'"
      ]
     },
     "metadata": {},
     "output_type": "display_data"
    },
    {
     "data": {
      "text/plain": [
       "'episode: 8000'"
      ]
     },
     "metadata": {},
     "output_type": "display_data"
    },
    {
     "data": {
      "text/plain": [
       "'episode: 9000'"
      ]
     },
     "metadata": {},
     "output_type": "display_data"
    },
    {
     "data": {
      "text/plain": [
       "'episode: 10000'"
      ]
     },
     "metadata": {},
     "output_type": "display_data"
    },
    {
     "data": {
      "text/plain": [
       "'episode: 11000'"
      ]
     },
     "metadata": {},
     "output_type": "display_data"
    },
    {
     "data": {
      "text/plain": [
       "'episode: 12000'"
      ]
     },
     "metadata": {},
     "output_type": "display_data"
    },
    {
     "data": {
      "text/plain": [
       "'episode: 13000'"
      ]
     },
     "metadata": {},
     "output_type": "display_data"
    },
    {
     "data": {
      "text/plain": [
       "'episode: 14000'"
      ]
     },
     "metadata": {},
     "output_type": "display_data"
    },
    {
     "data": {
      "text/plain": [
       "'episode: 15000'"
      ]
     },
     "metadata": {},
     "output_type": "display_data"
    },
    {
     "data": {
      "text/plain": [
       "'episode: 16000'"
      ]
     },
     "metadata": {},
     "output_type": "display_data"
    },
    {
     "data": {
      "text/plain": [
       "'episode: 17000'"
      ]
     },
     "metadata": {},
     "output_type": "display_data"
    },
    {
     "data": {
      "text/plain": [
       "'episode: 18000'"
      ]
     },
     "metadata": {},
     "output_type": "display_data"
    },
    {
     "data": {
      "text/plain": [
       "'episode: 19000'"
      ]
     },
     "metadata": {},
     "output_type": "display_data"
    },
    {
     "data": {
      "text/plain": [
       "'episode: 20000'"
      ]
     },
     "metadata": {},
     "output_type": "display_data"
    },
    {
     "data": {
      "text/plain": [
       "'episode: 21000'"
      ]
     },
     "metadata": {},
     "output_type": "display_data"
    },
    {
     "data": {
      "text/plain": [
       "'episode: 22000'"
      ]
     },
     "metadata": {},
     "output_type": "display_data"
    },
    {
     "data": {
      "text/plain": [
       "'episode: 23000'"
      ]
     },
     "metadata": {},
     "output_type": "display_data"
    },
    {
     "data": {
      "text/plain": [
       "'episode: 24000'"
      ]
     },
     "metadata": {},
     "output_type": "display_data"
    },
    {
     "data": {
      "text/plain": [
       "'episode: 25000'"
      ]
     },
     "metadata": {},
     "output_type": "display_data"
    },
    {
     "data": {
      "text/plain": [
       "'episode: 26000'"
      ]
     },
     "metadata": {},
     "output_type": "display_data"
    },
    {
     "data": {
      "text/plain": [
       "'episode: 27000'"
      ]
     },
     "metadata": {},
     "output_type": "display_data"
    },
    {
     "data": {
      "text/plain": [
       "'episode: 28000'"
      ]
     },
     "metadata": {},
     "output_type": "display_data"
    },
    {
     "data": {
      "text/plain": [
       "'episode: 29000'"
      ]
     },
     "metadata": {},
     "output_type": "display_data"
    },
    {
     "data": {
      "text/plain": [
       "'episode: 30000'"
      ]
     },
     "metadata": {},
     "output_type": "display_data"
    },
    {
     "data": {
      "text/plain": [
       "'episode: 31000'"
      ]
     },
     "metadata": {},
     "output_type": "display_data"
    },
    {
     "data": {
      "text/plain": [
       "'episode: 32000'"
      ]
     },
     "metadata": {},
     "output_type": "display_data"
    },
    {
     "data": {
      "text/plain": [
       "'episode: 33000'"
      ]
     },
     "metadata": {},
     "output_type": "display_data"
    },
    {
     "data": {
      "text/plain": [
       "'episode: 34000'"
      ]
     },
     "metadata": {},
     "output_type": "display_data"
    },
    {
     "data": {
      "text/plain": [
       "'episode: 35000'"
      ]
     },
     "metadata": {},
     "output_type": "display_data"
    },
    {
     "data": {
      "text/plain": [
       "'episode: 36000'"
      ]
     },
     "metadata": {},
     "output_type": "display_data"
    },
    {
     "data": {
      "text/plain": [
       "'episode: 37000'"
      ]
     },
     "metadata": {},
     "output_type": "display_data"
    },
    {
     "data": {
      "text/plain": [
       "'episode: 38000'"
      ]
     },
     "metadata": {},
     "output_type": "display_data"
    },
    {
     "data": {
      "text/plain": [
       "'episode: 39000'"
      ]
     },
     "metadata": {},
     "output_type": "display_data"
    },
    {
     "data": {
      "text/plain": [
       "'episode: 40000'"
      ]
     },
     "metadata": {},
     "output_type": "display_data"
    },
    {
     "data": {
      "text/plain": [
       "'episode: 41000'"
      ]
     },
     "metadata": {},
     "output_type": "display_data"
    },
    {
     "data": {
      "text/plain": [
       "'episode: 42000'"
      ]
     },
     "metadata": {},
     "output_type": "display_data"
    },
    {
     "data": {
      "text/plain": [
       "'episode: 43000'"
      ]
     },
     "metadata": {},
     "output_type": "display_data"
    },
    {
     "data": {
      "text/plain": [
       "'episode: 44000'"
      ]
     },
     "metadata": {},
     "output_type": "display_data"
    },
    {
     "data": {
      "text/plain": [
       "'episode: 45000'"
      ]
     },
     "metadata": {},
     "output_type": "display_data"
    },
    {
     "data": {
      "text/plain": [
       "'episode: 46000'"
      ]
     },
     "metadata": {},
     "output_type": "display_data"
    },
    {
     "data": {
      "text/plain": [
       "'episode: 47000'"
      ]
     },
     "metadata": {},
     "output_type": "display_data"
    },
    {
     "data": {
      "text/plain": [
       "'episode: 48000'"
      ]
     },
     "metadata": {},
     "output_type": "display_data"
    },
    {
     "data": {
      "text/plain": [
       "'episode: 49000'"
      ]
     },
     "metadata": {},
     "output_type": "display_data"
    },
    {
     "data": {
      "text/plain": [
       "'episode: 50000'"
      ]
     },
     "metadata": {},
     "output_type": "display_data"
    },
    {
     "data": {
      "text/plain": [
       "'episode: 51000'"
      ]
     },
     "metadata": {},
     "output_type": "display_data"
    },
    {
     "data": {
      "text/plain": [
       "'episode: 52000'"
      ]
     },
     "metadata": {},
     "output_type": "display_data"
    },
    {
     "data": {
      "text/plain": [
       "'episode: 53000'"
      ]
     },
     "metadata": {},
     "output_type": "display_data"
    },
    {
     "data": {
      "text/plain": [
       "'episode: 54000'"
      ]
     },
     "metadata": {},
     "output_type": "display_data"
    },
    {
     "data": {
      "text/plain": [
       "'episode: 55000'"
      ]
     },
     "metadata": {},
     "output_type": "display_data"
    },
    {
     "data": {
      "text/plain": [
       "'episode: 56000'"
      ]
     },
     "metadata": {},
     "output_type": "display_data"
    },
    {
     "data": {
      "text/plain": [
       "'episode: 57000'"
      ]
     },
     "metadata": {},
     "output_type": "display_data"
    },
    {
     "data": {
      "text/plain": [
       "'episode: 58000'"
      ]
     },
     "metadata": {},
     "output_type": "display_data"
    },
    {
     "data": {
      "text/plain": [
       "'episode: 59000'"
      ]
     },
     "metadata": {},
     "output_type": "display_data"
    },
    {
     "data": {
      "text/plain": [
       "'episode: 60000'"
      ]
     },
     "metadata": {},
     "output_type": "display_data"
    },
    {
     "data": {
      "text/plain": [
       "'episode: 61000'"
      ]
     },
     "metadata": {},
     "output_type": "display_data"
    },
    {
     "data": {
      "text/plain": [
       "'episode: 62000'"
      ]
     },
     "metadata": {},
     "output_type": "display_data"
    },
    {
     "data": {
      "text/plain": [
       "'episode: 63000'"
      ]
     },
     "metadata": {},
     "output_type": "display_data"
    },
    {
     "data": {
      "text/plain": [
       "'episode: 64000'"
      ]
     },
     "metadata": {},
     "output_type": "display_data"
    },
    {
     "data": {
      "text/plain": [
       "'episode: 65000'"
      ]
     },
     "metadata": {},
     "output_type": "display_data"
    },
    {
     "data": {
      "text/plain": [
       "'episode: 66000'"
      ]
     },
     "metadata": {},
     "output_type": "display_data"
    },
    {
     "data": {
      "text/plain": [
       "'episode: 67000'"
      ]
     },
     "metadata": {},
     "output_type": "display_data"
    },
    {
     "data": {
      "text/plain": [
       "'episode: 68000'"
      ]
     },
     "metadata": {},
     "output_type": "display_data"
    },
    {
     "data": {
      "text/plain": [
       "'episode: 69000'"
      ]
     },
     "metadata": {},
     "output_type": "display_data"
    }
   ],
   "source": [
    "# run sarsa algorithms to come up with optimal policy using nonclass version of td_learning\n",
    "import pickle\n",
    "from numba import jit\n",
    "from td_learning_nonclass import *\n",
    "from env0_0 import Env0_0\n",
    "from scipy.stats import poisson, norm,binom\n",
    "import random\n",
    "import pandas as pd\n",
    "import numpy as np\n",
    "seednum = 32\n",
    "random.seed(seednum)\n",
    "np.random.seed(seednum)\n",
    "\n",
    "td = Env0_0([-1,-1],1,0)\n",
    "# sarsaoption = 0 for Sarsa(lambda) and 1 for Q-Learning(lambda) \n",
    "# num_episodes = number of episodes to train the agent\n",
    "# lam = lambda value for Sarsa(lambda) and Q-Learning(lambda)\n",
    "\n",
    "# Qinitoption\n",
    "# 0 = zero initialization\n",
    "# 1 = immediate reward init.\n",
    "\n",
    "# epdecayoption\n",
    "# 0 = for inverse decay, \n",
    "# 1 = inverse decay with a minimum of 0.01\n",
    "# 2 = for pure exploration for 10% and then inverse decay\n",
    "# 3 = exponential\n",
    "# 4 = logistic\n",
    "\n",
    "# lroption\n",
    "# 0 = constant learning rate\n",
    "# 1 = inverse decay\n",
    "# 2 = exponential\n",
    "# 3 = logistic\n",
    "\n",
    "Q, policy, Q_update_counter, Qchanges, rewards, MSE = td_lambda(\n",
    "    td,num_episodes=70000,sarsaoption=1,lam=0.45,Qinitopt=1,epdecayopt=4,lropt=3)\n"
   ]
  },
  {
   "cell_type": "markdown",
   "id": "a3a4a519",
   "metadata": {},
   "source": [
    "# MSE"
   ]
  },
  {
   "cell_type": "code",
   "execution_count": 4,
   "id": "6e4644fb",
   "metadata": {},
   "outputs": [
    {
     "name": "stdout",
     "output_type": "stream",
     "text": [
      "MSE = 0.1371187892751991\n",
      "action 0\n",
      "Q_vi: [-100.         -100.         -100.         -100.         -100.\n",
      "  -91.18646197  -89.17314187  -86.54426229  -83.39330924  -81.79334595\n",
      "  -84.21103067  -82.09417352  -80.87898538  -79.41208089  -78.08274308\n",
      "  -81.39095647  -80.05009762  -78.5653861   -77.14368025  -75.66433808\n",
      "  -79.77561175  -78.39017139  -76.84152103  -75.45772633  -74.01728376\n",
      "  -78.50432387  -77.02741575  -75.63751513  -74.17263963  -72.74383921\n",
      "  -77.45661165  -76.00507893  -74.58405871  -73.13055195  -71.67661843\n",
      "  -76.55977392  -75.03367865  -73.66553053  -72.19689214  -70.89243451\n",
      "  -75.79554682  -74.35627212  -72.90603861  -71.48696297  -70.61060401\n",
      "  -75.08543593  -73.6680133   -72.19740916  -70.9108042   -70.59933711]\n",
      "action 1\n",
      "Q_vi: [-100.         -100.         -100.         -100.         -100.\n",
      "  -93.48867752  -91.93002826  -90.13333474  -87.72500035  -84.64862242\n",
      "  -86.06273401  -82.94684029  -81.90889189  -80.55546392  -79.10390617\n",
      "  -82.13110705  -80.85955898  -79.30949601  -77.96294251  -76.44124464\n",
      "  -80.46296212  -79.00907499  -77.60304532  -76.16157015  -74.73652276\n",
      "  -79.08266869  -77.68167015  -76.26173332  -74.82308051  -73.3703168\n",
      "  -78.0643353   -76.63459973  -75.13866924  -73.71271651  -72.28866916\n",
      "  -77.11980739  -75.6361069   -74.23283808  -72.84251667  -71.46049677\n",
      "  -76.3537018   -74.91467644  -73.45598392  -72.06545947  -71.12082122\n",
      "  -75.59085017  -74.20488772  -72.7782936   -71.43817449  -71.1246141 ]\n",
      "action 2\n",
      "Q_vi: [-100.         -100.         -100.         -100.         -100.\n",
      "  -91.77249152  -89.87872163  -87.3087729   -84.10445195  -82.43061055\n",
      "  -88.32823366  -85.49277611  -82.81184091  -81.70091172  -80.24274025\n",
      "  -82.56036027  -81.35903177  -79.91797954  -78.54837296  -77.0574497\n",
      "  -80.91624287  -79.35542017  -78.03038632  -76.55816166  -75.07410421\n",
      "  -79.31677647  -77.97072009  -76.55319226  -75.05974199  -73.62972545\n",
      "  -78.27771742  -76.83212029  -75.32489748  -73.92181036  -72.47038652\n",
      "  -77.24465797  -75.86073912  -74.4034416   -72.95916411  -71.6219365\n",
      "  -76.49913355  -75.01027176  -73.57724518  -72.15786355  -71.10807396\n",
      "  -75.72910641  -74.31943035  -72.89833555  -71.53994323  -71.120006  ]\n",
      "action 3\n",
      "Q_vi: [-100.         -100.         -100.         -100.         -100.\n",
      "  -89.66123732  -87.13343771  -83.76553717  -82.33622568  -81.05441883\n",
      "  -87.09602022  -83.88533167  -82.40688349  -81.14266461  -79.5216558\n",
      "  -83.21062223  -82.15203641  -80.80309182  -79.30472861  -77.9484148\n",
      "  -81.370853    -79.92824216  -78.52964236  -77.04353934  -75.5605843\n",
      "  -79.6533403   -78.35702477  -76.88067708  -75.42394237  -74.00305532\n",
      "  -78.53716954  -77.07698568  -75.60325897  -74.20020684  -72.75930228\n",
      "  -77.51658127  -76.08154906  -74.62721825  -73.17014613  -71.78554955\n",
      "  -76.68603345  -75.22616192  -73.79407735  -72.31029881  -71.1078696\n",
      "  -75.88395321  -74.4612466   -73.01453614  -71.61872435  -71.11733411]\n",
      "700\n"
     ]
    },
    {
     "data": {
      "text/plain": [
       "<matplotlib.legend.Legend at 0x2a27ef44b90>"
      ]
     },
     "execution_count": 4,
     "metadata": {},
     "output_type": "execute_result"
    },
    {
     "data": {
      "image/png": "[encoded data removed]",
      "text/plain": [
       "<Figure size 1200x600 with 1 Axes>"
      ]
     },
     "metadata": {},
     "output_type": "display_data"
    }
   ],
   "source": [
    "import matplotlib.pyplot as plt\n",
    "# compare the difference in between the Q from value iteration and the Q from Qlearning.\n",
    "td = Env0_0([-1,-1],1,0)\n",
    "lam = 0.45\n",
    "\n",
    "with open(f\"value iter results/Q_Env0.0_par0_valiter.pkl\", \"rb\") as file:\n",
    "    Q_vi = pickle.load(file)\n",
    "with open(f\"td results/Q_Env0.0_par0_Qlearning(lambda{lam}).pkl\", \"rb\") as file:\n",
    "    Q_q = pickle.load(file)\n",
    "# get the difference in Q\n",
    "\n",
    "diff = 0\n",
    "for s in range(np.prod(td.statespace_dim)):\n",
    "    for a in range(td.actionspace_dim[0]):\n",
    "        diff += (Q_vi[s,a] - Q_q[s,a])**2\n",
    "Q_diff = 1/(np.prod(td.statespace_dim)*td.actionspace_dim[0])*diff\n",
    "print(f'MSE = {Q_diff}')\n",
    "\n",
    "# print Q functions\n",
    "for a in range(td.actionspace_dim[0]):\n",
    "    print(f'action {a}')\n",
    "    print(f'Q_vi: {Q_vi[:,a]}')\n",
    "    #print(f'Q_q: {Q_q[:,a]}')\n",
    "\n",
    "# plot MSE over steps.\n",
    "print(len(MSE))\n",
    "unit = 100\n",
    "\n",
    "plt.figure(figsize=(12, 6))\n",
    "# Plot NW_index over time\n",
    "plt.subplot(2, 1, 1)\n",
    "plt.plot(range(30000, len(MSE) * unit, unit), MSE[300:], label='MSE', color='blue')\n",
    "plt.xlabel('Steps')\n",
    "plt.ylabel('MSE')\n",
    "plt.title(f'MSE over Steps')\n",
    "plt.legend()\n",
    "\n"
   ]
  },
  {
   "cell_type": "code",
   "execution_count": 19,
   "id": "f01902b3",
   "metadata": {},
   "outputs": [
    {
     "name": "stdout",
     "output_type": "stream",
     "text": [
      "200\n",
      "50\n",
      "number of updated state action pairs: 190\n",
      "percentage of updated state action pairs: 0.95\n",
      "number of updated states: 50\n",
      "percentage of updated states: 1.0\n"
     ]
    }
   ],
   "source": [
    "from env0_0 import Env0_0\n",
    "env = Env0_0([-1,-1],1,0)\n",
    "reachable_sa = np.prod(env.statespace_dim)*(env.actionspace_dim[0])\n",
    "reachable_s = np.prod(env.statespace_dim) #14700\n",
    "print(reachable_sa)\n",
    "print(reachable_s)\n",
    "#nonzero_policy = np.where(policy > 0)\n",
    "#print(len(nonzero_policy[0]))\n",
    "#[[td._unflatten(i),policy[i]] for i in nonzero_policy[0]]\n",
    "V_counter = np.array([max(Q_update_counter[i,:]) for i in range(np.prod(td.statespace_dim))])\n",
    "num_stateupdated = len(np.where(V_counter > 0)[0])# number of updated states\n",
    "num_updated = len(np.where(Q_update_counter > 0)[0])# number of updated state action pairs\n",
    "percentage_updated = num_updated/reachable_sa\n",
    "#num_stateupdated = len(np.where(state_visit_counte > 0)[0])# number of updated states\n",
    "percentage_stateupdated = num_stateupdated/reachable_s\n",
    "print(f'number of updated state action pairs: {num_updated}')\n",
    "print(f'percentage of updated state action pairs: {percentage_updated}') \n",
    "print(f'number of updated states: {num_stateupdated}')\n",
    "print(f'percentage of updated states: {percentage_stateupdated}')\n"
   ]
  },
  {
   "cell_type": "markdown",
   "id": "2b8772f0",
   "metadata": {},
   "source": [
    "# Qlearning Q dist; change in Q over episodes; policy dist; rewards"
   ]
  },
  {
   "cell_type": "code",
   "execution_count": 17,
   "id": "54bd6177",
   "metadata": {},
   "outputs": [
    {
     "data": {
      "image/png": "[encoded data removed]",
      "text/plain": [
       "<Figure size 1200x600 with 2 Axes>"
      ]
     },
     "metadata": {},
     "output_type": "display_data"
    },
    {
     "data": {
      "image/png": "[encoded data removed]",
      "text/plain": [
       "<Figure size 1200x600 with 1 Axes>"
      ]
     },
     "metadata": {},
     "output_type": "display_data"
    },
    {
     "data": {
      "image/png": "[encoded data removed]",
      "text/plain": [
       "<Figure size 1200x600 with 1 Axes>"
      ]
     },
     "metadata": {},
     "output_type": "display_data"
    },
    {
     "name": "stdout",
     "output_type": "stream",
     "text": [
      "unique actions in the policy of updated S-A pairs [0. 1. 2. 3.]\n",
      "counts [142   8  12  24]\n",
      "unique actions in the policy of unupdated S-A pairs [0.]\n",
      "counts [6]\n"
     ]
    },
    {
     "data": {
      "image/png": "[encoded data removed]",
      "text/plain": [
       "<Figure size 640x480 with 2 Axes>"
      ]
     },
     "metadata": {},
     "output_type": "display_data"
    }
   ],
   "source": [
    "import matplotlib.pyplot as plt\n",
    "\n",
    "td = Env0_0([-1,-1],1,0)\n",
    "\n",
    "unupdated_idxs = np.where(Q_update_counter == 0)\n",
    "idxs2 = np.where(Q_update_counter > 1)\n",
    "idxs = np.where(np.logical_and(Q_update_counter > 20, Q_update_counter <= 30))\n",
    "# unflatten each idxs\n",
    "# max value of Q for given state\n",
    "updatedQ = [max(Q[idxs2[0][i],[idxs2[1][i]]]) for i in range(len(idxs2[0]))]\n",
    "unupdatedQ = [max(Q[unupdated_idxs[0][i],[unupdated_idxs[1][i]]]) for i in range(len(unupdated_idxs[0]))]\n",
    "# plot histogram of updated Q\n",
    "plt.figure(figsize=(12, 6))\n",
    "\n",
    "# Plot histogram of updated Q\n",
    "plt.subplot(2, 1, 1)\n",
    "plt.hist(updatedQ, bins=50, color='blue', alpha=0.7, label='Updated Q')\n",
    "plt.xlabel('Q-value')\n",
    "plt.ylabel('Frequency')\n",
    "plt.title('Histogram of Updated Q-values')\n",
    "plt.legend()\n",
    "# Plot histogram of unupdated Q\n",
    "plt.subplot(2, 1, 2)\n",
    "plt.hist(unupdatedQ, bins=50, color='red', alpha=0.7, label='Unupdated Q')\n",
    "plt.xlabel('Q-value')\n",
    "plt.ylabel('Frequency')\n",
    "plt.title('Histogram of Unupdated Q-values')\n",
    "plt.legend()\n",
    "\n",
    "plt.tight_layout()\n",
    "plt.show()\n",
    "\n",
    "# plot the Qchanges over every step\n",
    "plt.figure(figsize=(12, 6))\n",
    "plt.plot(Qchanges)\n",
    "plt.xlabel('Episodes')\n",
    "plt.ylabel('Qchanges')\n",
    "plt.title('Qchanges over step')\n",
    "plt.show()\n",
    "\n",
    "# plot the total rewards for every episode\n",
    "plt.figure(figsize=(12, 6))\n",
    "plt.plot(rewards)\n",
    "plt.xlabel('Episodes')\n",
    "plt.ylabel('Total Rewards')\n",
    "plt.title('Rewards over Episodes')\n",
    "plt.show()\n",
    "\n",
    "\n",
    "\n",
    "# get the policy for the updated Q\n",
    "policy_updated = policy[idxs2[0]]\n",
    "policy_unupdated = policy[unupdated_idxs[0]]\n",
    "uniquevals, counts = np.unique(policy_updated, return_counts=True)\n",
    "print(\"unique actions in the policy of updated S-A pairs\",uniquevals)\n",
    "print(\"counts\",counts)\n",
    "uniquevals, counts = np.unique(policy_unupdated, return_counts=True)\n",
    "print(\"unique actions in the policy of unupdated S-A pairs\",uniquevals)\n",
    "print(\"counts\",counts)\n",
    "\n",
    "# Plot histogram of updated state policy\n",
    "plt.subplot(2, 1, 1)\n",
    "plt.hist(policy_updated, bins=50, color='blue', alpha=0.7, label='Updated Q')\n",
    "plt.xlabel('actions')\n",
    "plt.ylabel('Frequency')\n",
    "plt.title('Histogram of Updated policy')\n",
    "plt.legend()\n",
    "# Plot histogram of unupdated state policy\n",
    "plt.subplot(2, 1, 2)\n",
    "plt.hist(policy_unupdated, bins=50, color='red', alpha=0.7, label='Unupdated Q')\n",
    "plt.xlabel('actions')\n",
    "plt.ylabel('Frequency')\n",
    "plt.title('Histogram of Unupdated policy')\n",
    "plt.legend()\n",
    "plt.tight_layout()\n",
    "plt.show()"
   ]
  },
  {
   "cell_type": "markdown",
   "id": "1e9a0a13",
   "metadata": {},
   "source": [
    "# Value iteration Q distribution"
   ]
  },
  {
   "cell_type": "code",
   "execution_count": 4,
   "id": "70e149a3",
   "metadata": {},
   "outputs": [
    {
     "data": {
      "image/png": "[encoded data removed]",
      "text/plain": [
       "<Figure size 1200x600 with 1 Axes>"
      ]
     },
     "metadata": {},
     "output_type": "display_data"
    }
   ],
   "source": [
    "#with open(f\"value iter results/Q_Env1.0_par1_valiter.pkl\", \"rb\") as file:\n",
    "#    Q = pickle.load(file)\n",
    "with open(f\"value iter results/Q_Env0.0_par0_valiter.pkl\", \"rb\") as file:\n",
    "    Q = pickle.load(file)\n",
    "\n",
    "# plot histogram of Q\n",
    "import matplotlib.pyplot as plt\n",
    "import numpy as np\n",
    "\n",
    "plt.figure(figsize=(12, 6))\n",
    "plt.hist(Q.flatten(), bins=100)\n",
    "\n",
    "plt.xlabel('Q values')\n",
    "plt.ylabel('Frequency')\n",
    "plt.title('Histogram of Q values')\n",
    "plt.show()"
   ]
  },
  {
   "cell_type": "markdown",
   "id": "dcb1a008",
   "metadata": {},
   "source": [
    "# average performance of value iteration policy and q-learning policy\n"
   ]
  },
  {
   "cell_type": "code",
   "execution_count": 5,
   "id": "694e9dab",
   "metadata": {},
   "outputs": [
    {
     "name": "stdout",
     "output_type": "stream",
     "text": [
      "./td results/policy_Env0.0_par0_Qlearning(lambda0.45).pkl\n",
      "[[     0.      0.      0.      0.      0.]\n",
      " [300000. 300000. 300000. 300000. 300000.]\n",
      " [     0.      0.      0.      0.      0.]\n",
      " [     0.      0.      0.      0.      0.]\n",
      " [     0.      0.      0.      0.      0.]\n",
      " [     0.      0.      0.      0.      0.]\n",
      " [     0.      0.      0.      0.      0.]\n",
      " [     0.      0.      0.      0.      0.]\n",
      " [     0.      0.      0.      0.      0.]\n",
      " [     0.      0.      0.      0.      0.]]\n"
     ]
    },
    {
     "data": {
      "image/png": "[encoded data removed]",
      "text/plain": [
       "<Figure size 600x600 with 2 Axes>"
      ]
     },
     "metadata": {},
     "output_type": "display_data"
    }
   ],
   "source": [
    "# plot the fall stocking policy and spring target production setting policy\n",
    "# in a grid where each cell is colored according to the action\n",
    "import matplotlib.pyplot as plt\n",
    "import matplotlib.colors as mcolors\n",
    "import pickle\n",
    "from value_iteration import value_iteration\n",
    "from env0_0 import Env0_0\n",
    "from scipy.stats import poisson, norm,binom\n",
    "import random\n",
    "import pandas as pd\n",
    "import numpy as np\n",
    "\n",
    "def plot_policy(class_obj,optim_method,lambda_val):\n",
    "    # Plot Fall stocking policy in a grid\n",
    "    # x axis is the number of NW individuals\n",
    "    # y axis is the number of H individuals\n",
    "    # color is the action with darker color indicating higher action\n",
    "    # class_obj is the class object\n",
    "\n",
    "\n",
    "    # read in policy and action value function pickle files\n",
    "    \n",
    "    if optim_method == 0:\n",
    "        wd = './value iter results'\n",
    "        method_str = 'valiter'\n",
    "    elif optim_method == 1:\n",
    "        wd = './td results'\n",
    "        method_str = f'sarsa(lambda{lambda_val})'\n",
    "    elif optim_method == 2:\n",
    "        wd = './td results'\n",
    "        method_str = f'Qlearning(lambda{lambda_val})'\n",
    "    elif optim_method == 3:\n",
    "        wd = './td results'\n",
    "        method_str = 'sarsa_n'\n",
    "    elif optim_method == 4:\n",
    "        wd = './td results'\n",
    "        method_str = 'sarsa_n'\n",
    "\n",
    "    policyfilename = f\"{wd}/policy_{env.envID}_par{env.parset}_{method_str}.pkl\"\n",
    "    Qfilename = f\"{wd}/Q_{env.envID}_par{env.parset}_{method_str}.pkl\"\n",
    "    print(policyfilename)\n",
    "    with open(policyfilename, \"rb\") as file:\n",
    "        policy = pickle.load(file)\n",
    "    with open(Qfilename, \"rb\") as file:\n",
    "        Q = pickle.load(file)\n",
    "    if optim_method == 0:\n",
    "        with open(f\"{wd}/V_{env.envID}_par{env.parset}_{method_str}.pkl\", \"rb\") as file:\n",
    "            V = pickle.load(file)\n",
    "\n",
    "    # class_obj is the class object of the environment\n",
    "    actions = np.zeros((len(class_obj.states['NW']), len(class_obj.states['q'])))\n",
    "\n",
    "    actions_idxs = []\n",
    "    # get optimal actions according to the policy for each state in the grid\n",
    "    for NW_idx in range(len(class_obj.states['NW'])):\n",
    "        for q_idx in range(len(class_obj.states['q'])):\n",
    "            state_idx = [NW_idx, q_idx]\n",
    "            stateid = class_obj._flatten(state_idx)\n",
    "            actions[NW_idx, q_idx] = class_obj.actions['a'][int(policy[stateid])]\n",
    "            actions_idxs.append(int(policy[stateid]))\n",
    "    print(actions)\n",
    "    # Define a discrete colormap\n",
    "    # create nbins number of gray scale colors in hex in a list\n",
    "    nbins = np.max(actions_idxs) +1\n",
    "    colorhex = [f'#{int(255*(i/nbins)):02x}{int(255*(i/nbins)):02x}{int(255*(i/nbins)):02x}' for i in range(nbins)]\n",
    "    cmap = mcolors.ListedColormap(colorhex)\n",
    "\n",
    "    bounds = env.actions['a'][0:nbins]\n",
    "    #print(nbins)\n",
    "    norm = mcolors.BoundaryNorm(bounds, cmap.N)\n",
    "    # Plot the grid with the discrete colormap\n",
    "    plt.figure(figsize=(6, 6))\n",
    "    plt.imshow(actions, cmap=cmap, norm=norm)\n",
    "    plt.xticks(range(len(env.states['q'])), env.states['q'])\n",
    "    plt.yticks(range(len(env.states['NW'])), env.states['NW'])\n",
    "    plt.colorbar(ticks=bounds)\n",
    "    plt.xlabel('q')\n",
    "    plt.ylabel('NW')\n",
    "    plt.title(f'Optimal Stocking Policy')\n",
    "    plt.show()\n",
    "    return actions\n",
    "\n",
    "env = Env0_0([-1,-1],1,0)\n",
    "optim_method = 2 # 0 for value iteration, 1 for sarsa(lambda), 2 for Q-learning(lambda), 3 for sarsa(n), 4 for sarsa(n)\n",
    "lambda_val = 0.45\n",
    "optactions = plot_policy(env,optim_method,lambda_val) # 0 for spring, 1 for fall\n",
    "\n"
   ]
  },
  {
   "cell_type": "code",
   "execution_count": null,
   "id": "9a7b6f4d",
   "metadata": {},
   "outputs": [
    {
     "data": {
      "text/plain": [
       "5"
      ]
     },
     "execution_count": 25,
     "metadata": {},
     "output_type": "execute_result"
    }
   ],
   "source": [
    "wd = './td results'\n",
    "with open(f\"{wd}/policy_Env1.0_par1_Qlearning(lambda0.92).pkl\", \"rb\") as file:\n",
    "    policy = pickle.load(file)\n",
    "with open(f\"{wd}/Q_Env1.0_par1_Qlearning(lambda0.92).pkl\", \"rb\") as file:\n",
    "    Q = pickle.load(file)\n",
    "\n",
    "env = Env1_0([-1,-1,-1,-1,-1,-1],2,1)\n",
    "# which states have nonzero actions.\n",
    "nonzero_stateidx = np.where(policy!=0)\n",
    "len(nonzero_stateidx[0])\n",
    "#nonzero_stateidx = env._unflatten(nonzero_stateidx[0][0])\n"
   ]
  },
  {
   "cell_type": "code",
   "execution_count": null,
   "id": "e7eb43bd",
   "metadata": {},
   "outputs": [
    {
     "name": "stdout",
     "output_type": "stream",
     "text": [
      "()\n"
     ]
    }
   ],
   "source": [
    "# check if state transition probabilities are correct \n",
    "# see if next states of tau=0 is tau=1\n",
    "import pickle\n",
    "from value_iteration import value_iteration\n",
    "from env1_0 import Env1_0\n",
    "from scipy.stats import poisson, norm,binom\n",
    "import random\n",
    "import pandas as pd\n",
    "import numpy as np\n",
    "v = value_iteration([-1,-1,-1,-1,-1,-1],2,1)\n",
    "\n",
    "# call in transition_prob\n",
    "with open(f\"transition_prob{v.envID}.pkl\", \"rb\") as file:\n",
    "    transition_prob = pickle.load(file)\n",
    "\n",
    "NW_idx = 0\n",
    "NWm1_idx = 1\n",
    "NH_idx = 3\n",
    "H_idx = 3\n",
    "q_idx = 2\n",
    "tau_idx = 0\n",
    "action = 2\n",
    "state_index = [NW_idx, NWm1_idx, NH_idx, H_idx, q_idx, tau_idx]\n",
    "id = v._flatten(state_index)\n",
    "\n",
    "next_states = transition_prob[id][action]\n",
    "for id,prob in next_states:\n",
    "    state = v._unflatten(id)\n",
    "    print(f'prob = {prob}')\n",
    "    print(f'NW={state[0]}, NWm1={state[1]}, NH={state[2]}, H={state[3]}, q={state[4]}, tau={state[5]}')\n",
    "    print(' ')\n",
    "    \n",
    "    input('Press Enter to continue...')\n",
    "print(next_states)\n"
   ]
  }
 ],
 "metadata": {
  "kernelspec": {
   "display_name": "base",
   "language": "python",
   "name": "python3"
  },
  "language_info": {
   "codemirror_mode": {
    "name": "ipython",
    "version": 3
   },
   "file_extension": ".py",
   "mimetype": "text/x-python",
   "name": "python",
   "nbconvert_exporter": "python",
   "pygments_lexer": "ipython3",
   "version": "3.12.7"
  }
 },
 "nbformat": 4,
 "nbformat_minor": 5
}
